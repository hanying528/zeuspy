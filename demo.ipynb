{
 "cells": [
  {
   "cell_type": "code",
   "execution_count": 1,
   "id": "e00cc972-0c18-408d-9f8d-bb807aef2664",
   "metadata": {},
   "outputs": [],
   "source": [
    "from zeuspy import create_interface"
   ]
  },
  {
   "cell_type": "code",
   "execution_count": 2,
   "id": "52704c23-9f7b-45f1-b624-371888fe487e",
   "metadata": {},
   "outputs": [
    {
     "data": {
      "application/vnd.jupyter.widget-view+json": {
       "model_id": "a8b4f0e5393b4350ad80e9408c7ca3f5",
       "version_major": 2,
       "version_minor": 0
      },
      "text/plain": [
       "VBox(children=(HBox(children=(Text(value='data/toy_regression.csv', description='Input Data Location', layout=…"
      ]
     },
     "metadata": {},
     "output_type": "display_data"
    }
   ],
   "source": [
    "create_interface()"
   ]
  },
  {
   "cell_type": "code",
   "execution_count": null,
   "id": "2f851e71-6cdd-4bd3-b580-cdb78296be99",
   "metadata": {},
   "outputs": [],
   "source": []
  }
 ],
 "metadata": {
  "kernelspec": {
   "display_name": "Python 3 (ipykernel)",
   "language": "python",
   "name": "python3"
  },
  "language_info": {
   "codemirror_mode": {
    "name": "ipython",
    "version": 3
   },
   "file_extension": ".py",
   "mimetype": "text/x-python",
   "name": "python",
   "nbconvert_exporter": "python",
   "pygments_lexer": "ipython3",
   "version": "3.9.13"
  }
 },
 "nbformat": 4,
 "nbformat_minor": 5
}
