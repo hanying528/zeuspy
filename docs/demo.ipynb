{
 "cells": [
  {
   "cell_type": "markdown",
   "id": "5e73ffed-07d5-4a90-acc8-9a38f7e591f6",
   "metadata": {},
   "source": [
    "# Demo\n",
    "\n",
    "This notebook demonstrates how to use `zeuspy` to easily train regression and classification models in Jupyter. Before running this notebook, please make sure you set up your environment properly following the instructions [here](../README.md#dev-environment-setup).\n",
    "\n",
    "To instantiate the user interface, you need to firstly import `model_training_interface` from `zeuspy`."
   ]
  },
  {
   "cell_type": "code",
   "execution_count": null,
   "id": "e00cc972-0c18-408d-9f8d-bb807aef2664",
   "metadata": {},
   "outputs": [],
   "source": [
    "from zeuspy import model_training_interface"
   ]
  },
  {
   "cell_type": "markdown",
   "id": "95cfab37-df95-4a1e-bcf7-3027cb5d2ced",
   "metadata": {},
   "source": [
    "## Load data\n",
    "\n",
    "Calling `model_training_interface` function will display the text box for entering the path to your input data set. For this demo, we will use the toy data set stored under the `data/` directory. Click \"Load Data\" button and you should see a message if data is loaded correctly.\n",
    "\n",
    "## Model configuration\n",
    "\n",
    "### Train a regression model\n",
    "- Choose **regression** as the model type\n",
    "- Select the target variable (\"y\" for example)\n",
    "- Click \"Confirm\" button\n",
    "- Select an algorithm from the dropdown list and click \"Start training!\"\n",
    "\n",
    "The model will be trained on the backend using the specified configuration and once it's done, the performance will be evaluated with certain metrics (e.g. mean squared error, R square). In addition, a scatter plot between the predicted and actual values will also be displayed."
   ]
  },
  {
   "cell_type": "markdown",
   "id": "1ee5bfd4-ce27-425c-8e63-886789c206b6",
   "metadata": {},
   "source": [
    "<div class=\"alert alert-block alert-info\">\n",
    "    <b><i class=\"fa fa-info-circle\" aria-hidden=\"true\"></i>&nbsp; Info:</b>\n",
    "        Currently, only linear regression algorithm is enabled for regression modeling. More algorithms such as Gradient Descent and XGBoost will be added in future!\n",
    "<div>"
   ]
  },
  {
   "cell_type": "code",
   "execution_count": null,
   "id": "52704c23-9f7b-45f1-b624-371888fe487e",
   "metadata": {},
   "outputs": [
    {
     "data": {
      "application/vnd.jupyter.widget-view+json": {
       "model_id": "",
       "version_major": 2,
       "version_minor": 0
      },
      "text/plain": [
       "VBox(children=(HBox(children=(Text(value='../data/toy_regression.csv', description='Input Data Location', layo…"
      ]
     },
     "metadata": {},
     "output_type": "display_data"
    }
   ],
   "source": [
    "model_training_interface()"
   ]
  },
  {
   "cell_type": "markdown",
   "id": "c6b5ab79-175c-4323-936e-7657e77be4d6",
   "metadata": {},
   "source": [
    "### Train a classification model\n",
    "\n",
    "The steps are almost the same as training regression model, except that you should use `../data/toy_classification.csv' as input path and choose **classification** as the model type.\n",
    "\n",
    "Performance of a classification model will be measured using different set of metrics including accuracy and F1 score etc, and the confusion matrix will be determined and visualized with a heatmap."
   ]
  },
  {
   "cell_type": "code",
   "execution_count": null,
   "id": "105f1f9d-d307-4b75-9547-37c38479db06",
   "metadata": {},
   "outputs": [],
   "source": [
    "model_training_interface()"
   ]
  },
  {
   "cell_type": "markdown",
   "id": "6c1a81bd-a1a5-46de-8ae4-dd2295d8e2f9",
   "metadata": {},
   "source": [
    "<div class=\"alert alert-block alert-info\">\n",
    "    <b><i class=\"fa fa-info-circle\" aria-hidden=\"true\"></i>&nbsp; Info:</b>\n",
    "        Currently, only logistic regression algorithm is enabled for classification modeling. Algorithms such as SVM and XGBoost will be available in future!\n",
    "<div>"
   ]
  }
 ],
 "metadata": {
  "kernelspec": {
   "display_name": "Python 3 (ipykernel)",
   "language": "python",
   "name": "python3"
  },
  "language_info": {
   "codemirror_mode": {
    "name": "ipython",
    "version": 3
   },
   "file_extension": ".py",
   "mimetype": "text/x-python",
   "name": "python",
   "nbconvert_exporter": "python",
   "pygments_lexer": "ipython3",
   "version": "3.9.13"
  }
 },
 "nbformat": 4,
 "nbformat_minor": 5
}
